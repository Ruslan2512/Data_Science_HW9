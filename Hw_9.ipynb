{
 "cells": [
  {
   "cell_type": "code",
   "execution_count": 85,
   "id": "27342483",
   "metadata": {},
   "outputs": [],
   "source": [
    "import numpy as np\n",
    "from tensorflow import keras\n",
    "from keras.datasets import fashion_mnist"
   ]
  },
  {
   "cell_type": "code",
   "execution_count": 86,
   "id": "dcf954c1",
   "metadata": {},
   "outputs": [],
   "source": [
    "(x_train, y_train), (x_test, y_test) = fashion_mnist.load_data()"
   ]
  },
  {
   "cell_type": "code",
   "execution_count": 87,
   "id": "6d7fa998",
   "metadata": {},
   "outputs": [],
   "source": [
    "x_train = x_train.reshape(60000, 784)\n",
    "x_test = x_test.reshape(10000, 784)\n",
    "\n",
    "x_train = x_train / 255 \n",
    "x_test = x_test / 255 "
   ]
  },
  {
   "cell_type": "code",
   "execution_count": 89,
   "id": "b32e1bab",
   "metadata": {},
   "outputs": [],
   "source": [
    "from tensorflow.keras import utils\n",
    "\n",
    "y_train = utils.to_categorical(y_train, 10)\n",
    "y_test = utils.to_categorical(y_test, 10)"
   ]
  },
  {
   "cell_type": "code",
   "execution_count": 90,
   "id": "aa46efa5",
   "metadata": {},
   "outputs": [],
   "source": [
    "from keras.models import Sequential\n",
    "from keras.layers import Dense\n",
    "from keras import optimizers\n",
    "from keras import losses\n",
    "from keras import metrics\n",
    "\n",
    "\n",
    "model = Sequential([\n",
    "    Dense(800, input_dim=784, activation='relu'),\n",
    "    Dense(10, activation='softmax'),                    \n",
    "])\n",
    "\n",
    "model.compile(optimizer='SGD',\n",
    "              loss='categorical_crossentropy',\n",
    "              metrics=['accuracy'])"
   ]
  },
  {
   "cell_type": "code",
   "execution_count": 91,
   "id": "399df769",
   "metadata": {
    "scrolled": false
   },
   "outputs": [
    {
     "name": "stdout",
     "output_type": "stream",
     "text": [
      "Model: \"sequential_9\"\n",
      "_________________________________________________________________\n",
      " Layer (type)                Output Shape              Param #   \n",
      "=================================================================\n",
      " dense_25 (Dense)            (None, 800)               628000    \n",
      "                                                                 \n",
      " dense_26 (Dense)            (None, 10)                8010      \n",
      "                                                                 \n",
      "=================================================================\n",
      "Total params: 636,010\n",
      "Trainable params: 636,010\n",
      "Non-trainable params: 0\n",
      "_________________________________________________________________\n"
     ]
    }
   ],
   "source": [
    "model.summary()"
   ]
  },
  {
   "cell_type": "code",
   "execution_count": 92,
   "id": "aa0de1d4",
   "metadata": {},
   "outputs": [
    {
     "name": "stdout",
     "output_type": "stream",
     "text": [
      "Epoch 1/10\n",
      "107/107 [==============================] - 2s 14ms/step - loss: 1.4791 - accuracy: 0.5971 - val_loss: 1.0887 - val_accuracy: 0.6903\n",
      "Epoch 2/10\n",
      "107/107 [==============================] - 1s 12ms/step - loss: 0.9728 - accuracy: 0.7060 - val_loss: 0.8714 - val_accuracy: 0.7358\n",
      "Epoch 3/10\n",
      "107/107 [==============================] - 1s 12ms/step - loss: 0.8285 - accuracy: 0.7426 - val_loss: 0.7753 - val_accuracy: 0.7544\n",
      "Epoch 4/10\n",
      "107/107 [==============================] - 1s 13ms/step - loss: 0.7531 - accuracy: 0.7647 - val_loss: 0.7185 - val_accuracy: 0.7753\n",
      "Epoch 5/10\n",
      "107/107 [==============================] - 1s 13ms/step - loss: 0.7039 - accuracy: 0.7801 - val_loss: 0.6782 - val_accuracy: 0.7834\n",
      "Epoch 6/10\n",
      "107/107 [==============================] - 1s 12ms/step - loss: 0.6683 - accuracy: 0.7904 - val_loss: 0.6490 - val_accuracy: 0.7942\n",
      "Epoch 7/10\n",
      "107/107 [==============================] - 2s 14ms/step - loss: 0.6409 - accuracy: 0.7993 - val_loss: 0.6251 - val_accuracy: 0.7990\n",
      "Epoch 8/10\n",
      "107/107 [==============================] - 1s 12ms/step - loss: 0.6187 - accuracy: 0.8047 - val_loss: 0.6062 - val_accuracy: 0.8048\n",
      "Epoch 9/10\n",
      "107/107 [==============================] - 1s 12ms/step - loss: 0.6006 - accuracy: 0.8089 - val_loss: 0.5901 - val_accuracy: 0.8091\n",
      "Epoch 10/10\n",
      "107/107 [==============================] - 1s 12ms/step - loss: 0.5851 - accuracy: 0.8138 - val_loss: 0.5778 - val_accuracy: 0.8131\n"
     ]
    }
   ],
   "source": [
    "history = model.fit(\n",
    "    x_train, \n",
    "    y_train, \n",
    "    epochs=10,\n",
    "    batch_size=450,\n",
    "    validation_split=0.2,\n",
    "    verbose=1\n",
    ")"
   ]
  }
 ],
 "metadata": {
  "kernelspec": {
   "display_name": "Python 3 (ipykernel)",
   "language": "python",
   "name": "python3"
  },
  "language_info": {
   "codemirror_mode": {
    "name": "ipython",
    "version": 3
   },
   "file_extension": ".py",
   "mimetype": "text/x-python",
   "name": "python",
   "nbconvert_exporter": "python",
   "pygments_lexer": "ipython3",
   "version": "3.9.7"
  }
 },
 "nbformat": 4,
 "nbformat_minor": 5
}
